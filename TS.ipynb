{
  "nbformat": 4,
  "nbformat_minor": 0,
  "metadata": {
    "colab": {
      "name": "TS.ipynb",
      "provenance": [],
      "collapsed_sections": []
    },
    "kernelspec": {
      "name": "python3",
      "display_name": "Python 3"
    },
    "language_info": {
      "name": "python"
    }
  },
  "cells": [
    {
      "cell_type": "markdown",
      "metadata": {
        "id": "bY7wXSQED2V_"
      },
      "source": [
        "Importing libraires"
      ]
    },
    {
      "cell_type": "code",
      "metadata": {
        "id": "qrkZ3itGKwuH"
      },
      "source": [
        "import pandas as pd\n",
        "import numpy as np\n",
        "import spacy\n",
        "import nltk"
      ],
      "execution_count": null,
      "outputs": []
    },
    {
      "cell_type": "code",
      "metadata": {
        "colab": {
          "base_uri": "https://localhost:8080/"
        },
        "id": "O1M1xiVSPfr1",
        "outputId": "aa8049a2-e07b-4853-afc4-e22b79a63a04"
      },
      "source": [
        "nltk.download('punkt')\n",
        "nltk.download('wordnet')\n",
        "nltk.download('averaged_perceptron_tagger')\n",
        "nltk.download('stopwords')"
      ],
      "execution_count": null,
      "outputs": [
        {
          "output_type": "stream",
          "name": "stdout",
          "text": [
            "[nltk_data] Downloading package punkt to /root/nltk_data...\n",
            "[nltk_data]   Unzipping tokenizers/punkt.zip.\n",
            "[nltk_data] Downloading package wordnet to /root/nltk_data...\n",
            "[nltk_data]   Unzipping corpora/wordnet.zip.\n",
            "[nltk_data] Downloading package averaged_perceptron_tagger to\n",
            "[nltk_data]     /root/nltk_data...\n",
            "[nltk_data]   Unzipping taggers/averaged_perceptron_tagger.zip.\n",
            "[nltk_data] Downloading package stopwords to /root/nltk_data...\n",
            "[nltk_data]   Unzipping corpora/stopwords.zip.\n"
          ]
        },
        {
          "output_type": "execute_result",
          "data": {
            "text/plain": [
              "True"
            ]
          },
          "metadata": {},
          "execution_count": 2
        }
      ]
    },
    {
      "cell_type": "markdown",
      "metadata": {
        "id": "OPeaUciFFEiu"
      },
      "source": [
        "Text Input and processing"
      ]
    },
    {
      "cell_type": "code",
      "metadata": {
        "id": "EqdZIyTzLFOC",
        "colab": {
          "base_uri": "https://localhost:8080/"
        },
        "outputId": "586794aa-0760-49e7-a3ba-f61dc6805919"
      },
      "source": [
        "input_text=input(\"enter the sentences seperated by full stop\\n\")"
      ],
      "execution_count": null,
      "outputs": [
        {
          "name": "stdout",
          "output_type": "stream",
          "text": [
            "enter the sentences seperated by full stop\n",
            "what is your name? I am going home. I played with the dog.\n"
          ]
        }
      ]
    },
    {
      "cell_type": "code",
      "metadata": {
        "colab": {
          "base_uri": "https://localhost:8080/",
          "height": 35
        },
        "id": "O5efzxKopxyQ",
        "outputId": "ecc3d453-ae76-447d-cf3a-6ec570cd7b6b"
      },
      "source": [
        "input_text.lower()"
      ],
      "execution_count": null,
      "outputs": [
        {
          "output_type": "execute_result",
          "data": {
            "application/vnd.google.colaboratory.intrinsic+json": {
              "type": "string"
            },
            "text/plain": [
              "'what is your name? i am going home. i played with the dog.'"
            ]
          },
          "metadata": {},
          "execution_count": 4
        }
      ]
    },
    {
      "cell_type": "markdown",
      "metadata": {
        "id": "jsLixcQOWiV7"
      },
      "source": [
        "** **bold text**SENTENCE SEGMENTATION AND WORD TOKENIZATION**"
      ]
    },
    {
      "cell_type": "code",
      "metadata": {
        "colab": {
          "base_uri": "https://localhost:8080/"
        },
        "id": "PRdRZe0jOtsU",
        "outputId": "8db56121-2b18-4802-cc8e-7738567e36f0"
      },
      "source": [
        "nlp = spacy.load(\"en_core_web_sm\")\n",
        "doc = nlp(input_text)\n",
        "token_words=[]\n",
        "#sentence segmentation\n",
        "for sent in doc.sents:\n",
        "  #word tokenization\n",
        "  for token in sent:\n",
        "    token_words.append(token.text)\n",
        "print(token_words)   "
      ],
      "execution_count": null,
      "outputs": [
        {
          "output_type": "stream",
          "name": "stdout",
          "text": [
            "['what', 'is', 'your', 'name', '?', 'I', 'am', 'going', 'home', '.', 'I', 'played', 'with', 'the', 'dog', '.']\n"
          ]
        }
      ]
    },
    {
      "cell_type": "markdown",
      "metadata": {
        "id": "GqE9VQsDFNrl"
      },
      "source": [
        "Defining Stop Words"
      ]
    },
    {
      "cell_type": "code",
      "metadata": {
        "id": "uO5yxCKlnKxH"
      },
      "source": [
        "stop_words=['a','was','until','this', 'those', 'through','to', 'too','the', 'their', 'theirs','so', 'some', 'such','or','have','for', 'from','can','as', 'at', 'be','am', 'an']"
      ],
      "execution_count": null,
      "outputs": []
    },
    {
      "cell_type": "markdown",
      "metadata": {
        "id": "EzWm4v4yRllU"
      },
      "source": [
        "**LEMMATIZATION**\n"
      ]
    },
    {
      "cell_type": "code",
      "metadata": {
        "id": "ldCsC6IAOtnW"
      },
      "source": [
        "from nltk.stem import WordNetLemmatizer \n",
        "from nltk.stem import PorterStemmer\n",
        "# Init the Wordnet Lemmatizer\n",
        "lemmatizer = WordNetLemmatizer()"
      ],
      "execution_count": null,
      "outputs": []
    },
    {
      "cell_type": "code",
      "metadata": {
        "colab": {
          "base_uri": "https://localhost:8080/"
        },
        "id": "qeyw2ImRpTUm",
        "outputId": "0b2acb87-2c9c-45bc-f27d-33514322f5bb"
      },
      "source": [
        "ps = PorterStemmer()\n",
        "lemmatized_words=[]\n",
        "for w in token_words:\n",
        "  lemmatized_words.append(lemmatizer.lemmatize(w))\n",
        "islsentence = \"\"\n",
        "print(lemmatized_words)\n",
        "for w in lemmatized_words:\n",
        "  if w not in stop_words:\n",
        "    islsentence+=w\n",
        "    islsentence+=\" \"\n",
        "print(islsentence)"
      ],
      "execution_count": null,
      "outputs": [
        {
          "output_type": "stream",
          "name": "stdout",
          "text": [
            "['what', 'is', 'your', 'name', '?', 'I', 'am', 'going', 'home', '.', 'I', 'played', 'with', 'the', 'dog', '.']\n",
            "what is your name ? I going home . I played with dog . \n"
          ]
        }
      ]
    },
    {
      "cell_type": "code",
      "metadata": {
        "colab": {
          "base_uri": "https://localhost:8080/"
        },
        "id": "PrzCY6jWOtps",
        "outputId": "95a03791-8a3d-48f4-986a-ac8726b184d3"
      },
      "source": [
        "# Lemmatize with POS Tag\n",
        "from nltk.corpus import wordnet\n",
        "\n",
        "def get_wordnet_pos(word):\n",
        "    \"\"\"Map POS tag to first character lemmatize() accepts\"\"\"\n",
        "    tag = nltk.pos_tag([word])[0][1][0].upper()\n",
        "    tag_dict = {\"J\": wordnet.ADJ,\n",
        "                \"N\": wordnet.NOUN,\n",
        "                \"V\": wordnet.VERB,\n",
        "                \"R\": wordnet.ADV}\n",
        "\n",
        "    return tag_dict.get(tag, wordnet.NOUN)\n",
        "\n",
        "# 3. Lemmatize a tokens with the appropriate POS tag\n",
        "lem_words=[lemmatizer.lemmatize(w, get_wordnet_pos(w)) for w in token_words]\n",
        "print(lem_words)"
      ],
      "execution_count": null,
      "outputs": [
        {
          "output_type": "stream",
          "name": "stdout",
          "text": [
            "['what', 'be', 'your', 'name', '?', 'I', 'be', 'go', 'home', '.', 'I', 'played', 'with', 'the', 'dog', '.']\n"
          ]
        }
      ]
    },
    {
      "cell_type": "markdown",
      "metadata": {
        "id": "t82-6gIRgUf6"
      },
      "source": [
        "Eliminating Stop words"
      ]
    },
    {
      "cell_type": "code",
      "metadata": {
        "id": "JTi9xSb_LFek",
        "colab": {
          "base_uri": "https://localhost:8080/"
        },
        "outputId": "68ccd4d2-69cf-4af3-8ce8-7a671da3cfc3"
      },
      "source": [
        "word_set=[]\n",
        "for i in lem_words: \n",
        "    if i not in stop_words:\n",
        "        word_set.append(i)\n",
        "        \n",
        "print(word_set)"
      ],
      "execution_count": null,
      "outputs": [
        {
          "output_type": "stream",
          "name": "stdout",
          "text": [
            "['what', 'your', 'name', '?', 'I', 'go', 'home', '.', 'I', 'played', 'with', 'dog', '.']\n"
          ]
        }
      ]
    },
    {
      "cell_type": "markdown",
      "metadata": {
        "id": "xPflvweoFXkZ"
      },
      "source": [
        "Parts of Speech tagging"
      ]
    },
    {
      "cell_type": "code",
      "metadata": {
        "id": "7QHF2j5IrfYn",
        "colab": {
          "base_uri": "https://localhost:8080/"
        },
        "outputId": "e2c29541-be46-4868-91c0-28622eeb6795"
      },
      "source": [
        " tagged = nltk.pos_tag(word_set)\n",
        " tagged"
      ],
      "execution_count": null,
      "outputs": [
        {
          "output_type": "execute_result",
          "data": {
            "text/plain": [
              "[('what', 'WP'),\n",
              " ('your', 'PRP$'),\n",
              " ('name', 'NN'),\n",
              " ('?', '.'),\n",
              " ('I', 'PRP'),\n",
              " ('go', 'VBP'),\n",
              " ('home', 'NN'),\n",
              " ('.', '.'),\n",
              " ('I', 'PRP'),\n",
              " ('played', 'VBD'),\n",
              " ('with', 'IN'),\n",
              " ('dog', 'NN'),\n",
              " ('.', '.')]"
            ]
          },
          "metadata": {},
          "execution_count": 11
        }
      ]
    },
    {
      "cell_type": "code",
      "source": [
        ""
      ],
      "metadata": {
        "id": "2DLSSrx22MuW"
      },
      "execution_count": null,
      "outputs": []
    }
  ]
}